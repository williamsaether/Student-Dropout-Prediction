{
 "cells": [
  {
   "cell_type": "code",
   "id": "initial_id",
   "metadata": {
    "collapsed": true,
    "ExecuteTime": {
     "end_time": "2025-10-15T20:04:13.153564Z",
     "start_time": "2025-10-15T20:04:13.104750Z"
    }
   },
   "source": [
    "import pandas as pd\n",
    "import numpy as np\n",
    "\n",
    "from sklearn.model_selection import train_test_split\n",
    "from sklearn.preprocessing import LabelEncoder\n",
    "from sklearn.metrics import accuracy_score, classification_report, confusion_matrix\n",
    "from sklearn.ensemble import RandomForestClassifier\n",
    "from sklearn.dummy import DummyClassifier\n",
    "from sklearn.linear_model import LogisticRegression\n",
    "\n",
    "# Load\n",
    "df = pd.read_csv(\"data/data.csv\", sep=\";\")\n",
    "\n",
    "# Target encode\n",
    "le = LabelEncoder()\n",
    "y = le.fit_transform(df[\"Target\"])\n",
    "class_names = list(le.classes_)\n",
    "\n",
    "# Features (no preprocessing/engineering, as requested)\n",
    "X = df.drop(columns=[\"Target\"])\n",
    "\n",
    "# Split\n",
    "X_train, X_test, y_train, y_test = train_test_split(\n",
    "    X, y, test_size=0.20, stratify=y, random_state=42\n",
    ")"
   ],
   "outputs": [],
   "execution_count": 6
  },
  {
   "metadata": {
    "ExecuteTime": {
     "end_time": "2025-10-15T20:08:58.591284Z",
     "start_time": "2025-10-15T20:08:58.579157Z"
    }
   },
   "cell_type": "code",
   "source": [
    "def run_and_report(name, model, show_per_class=True):\n",
    "    model.fit(X_train, y_train)\n",
    "    y_pred = model.predict(X_test)\n",
    "    acc = accuracy_score(y_test, y_pred)\n",
    "    print(f\"\\n=== {name} ===\")\n",
    "    print(f\"Accuracy: {acc:.4f}\")\n",
    "    if show_per_class:\n",
    "        print(classification_report(y_test, y_pred, target_names=class_names, zero_division=0))\n",
    "    else:\n",
    "        # just weighted/macro to keep output clean\n",
    "        print(classification_report(y_test, y_pred, target_names=class_names, zero_division=0, digits=4))\n",
    "    print(\"Confusion matrix:\\n\", confusion_matrix(y_test, y_pred))\n",
    "    return acc"
   ],
   "id": "65cc85119c2490fb",
   "outputs": [],
   "execution_count": 10
  },
  {
   "metadata": {
    "ExecuteTime": {
     "end_time": "2025-10-15T20:09:00.703403Z",
     "start_time": "2025-10-15T20:08:59.116051Z"
    }
   },
   "cell_type": "code",
   "source": [
    "# 1) Dumb baseline: always predict majority class\n",
    "acc_dummy = run_and_report(\n",
    "    \"Dummy (most_frequent)\",\n",
    "    DummyClassifier(strategy=\"most_frequent\", random_state=42)\n",
    ")\n",
    "\n",
    "# 2) Random Forest baseline\n",
    "acc_rf = run_and_report(\n",
    "    \"RandomForest (n_estimators=200, max_depth=None)\",\n",
    "    RandomForestClassifier(\n",
    "        n_estimators=200,\n",
    "        max_depth=None,\n",
    "        random_state=42,\n",
    "        n_jobs=-1\n",
    "    )\n",
    ")\n",
    "\n",
    "# 3) Basic linear baseline: Multinomial Logistic Regression\n",
    "#    (Works fine without scaling on this dataset size/feature count)\n",
    "acc_logreg = run_and_report(\n",
    "    \"LogisticRegression (multinomial, lbfgs)\",\n",
    "    LogisticRegression(solver=\"lbfgs\", max_iter=2000, n_jobs=-1)\n",
    ")\n",
    "\n",
    "print(\"\\nSummary accuracies:\")\n",
    "print({\n",
    "    \"Dummy\": acc_dummy,\n",
    "    \"RandomForest\": acc_rf,\n",
    "    \"LogReg\": acc_logreg\n",
    "})\n"
   ],
   "id": "36618403c545afa",
   "outputs": [
    {
     "name": "stdout",
     "output_type": "stream",
     "text": [
      "\n",
      "=== Dummy (most_frequent) ===\n",
      "Accuracy: 0.4994\n",
      "              precision    recall  f1-score   support\n",
      "\n",
      "     Dropout       0.00      0.00      0.00       284\n",
      "    Enrolled       0.00      0.00      0.00       159\n",
      "    Graduate       0.50      1.00      0.67       442\n",
      "\n",
      "    accuracy                           0.50       885\n",
      "   macro avg       0.17      0.33      0.22       885\n",
      "weighted avg       0.25      0.50      0.33       885\n",
      "\n",
      "Confusion matrix:\n",
      " [[  0   0 284]\n",
      " [  0   0 159]\n",
      " [  0   0 442]]\n",
      "\n",
      "=== RandomForest (n_estimators=200, max_depth=None) ===\n",
      "Accuracy: 0.7650\n",
      "              precision    recall  f1-score   support\n",
      "\n",
      "     Dropout       0.80      0.75      0.77       284\n",
      "    Enrolled       0.55      0.34      0.42       159\n",
      "    Graduate       0.79      0.93      0.85       442\n",
      "\n",
      "    accuracy                           0.76       885\n",
      "   macro avg       0.71      0.67      0.68       885\n",
      "weighted avg       0.75      0.76      0.75       885\n",
      "\n",
      "Confusion matrix:\n",
      " [[213  24  47]\n",
      " [ 42  54  63]\n",
      " [ 12  20 410]]\n",
      "\n",
      "=== LogisticRegression (multinomial, lbfgs) ===\n",
      "Accuracy: 0.7503\n",
      "              precision    recall  f1-score   support\n",
      "\n",
      "     Dropout       0.80      0.73      0.76       284\n",
      "    Enrolled       0.49      0.26      0.34       159\n",
      "    Graduate       0.77      0.94      0.85       442\n",
      "\n",
      "    accuracy                           0.75       885\n",
      "   macro avg       0.69      0.64      0.65       885\n",
      "weighted avg       0.73      0.75      0.73       885\n",
      "\n",
      "Confusion matrix:\n",
      " [[207  25  52]\n",
      " [ 44  42  73]\n",
      " [  9  18 415]]\n",
      "\n",
      "Summary accuracies:\n",
      "{'Dummy': 0.4994350282485876, 'RandomForest': 0.7649717514124293, 'LogReg': 0.7502824858757062}\n"
     ]
    }
   ],
   "execution_count": 11
  }
 ],
 "metadata": {
  "kernelspec": {
   "display_name": "Python 3",
   "language": "python",
   "name": "python3"
  },
  "language_info": {
   "codemirror_mode": {
    "name": "ipython",
    "version": 2
   },
   "file_extension": ".py",
   "mimetype": "text/x-python",
   "name": "python",
   "nbconvert_exporter": "python",
   "pygments_lexer": "ipython2",
   "version": "2.7.6"
  }
 },
 "nbformat": 4,
 "nbformat_minor": 5
}

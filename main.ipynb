{
 "cells": [
  {
   "metadata": {},
   "cell_type": "markdown",
   "source": [
    "# Student Graduation Prediction\n",
    "\n",
    "In this notebook we will look at creating a good model based on the baseline model in the baseline notebook."
   ],
   "id": "8a77807f92f26ee"
  },
  {
   "metadata": {
    "ExecuteTime": {
     "end_time": "2025-10-21T22:11:53.841079Z",
     "start_time": "2025-10-21T22:11:53.079030Z"
    }
   },
   "cell_type": "code",
   "source": [
    "import numpy as np\n",
    "import pandas as pd\n",
    "\n",
    "from sklearn.base import BaseEstimator, TransformerMixin\n",
    "from sklearn.model_selection import train_test_split\n",
    "from sklearn.preprocessing import OneHotEncoder, StandardScaler, LabelEncoder\n",
    "from sklearn.compose import ColumnTransformer\n",
    "from sklearn.pipeline import Pipeline\n",
    "from sklearn.metrics import accuracy_score, classification_report, confusion_matrix\n",
    "from sklearn.inspection import permutation_importance\n",
    "\n",
    "from xgboost import XGBClassifier\n",
    "from imblearn.over_sampling import SMOTE\n",
    "from imblearn.pipeline import Pipeline as ImbPipeline\n",
    "from catboost import CatBoostClassifier, Pool\n",
    "from lightgbm import LGBMClassifier\n",
    "\n",
    "import matplotlib.pyplot as plt\n",
    "import shap"
   ],
   "id": "fbc121e30a2defb3",
   "outputs": [],
   "execution_count": 2
  },
  {
   "metadata": {
    "ExecuteTime": {
     "end_time": "2025-10-21T22:11:56.635966Z",
     "start_time": "2025-10-21T22:11:56.609835Z"
    }
   },
   "cell_type": "code",
   "source": [
    "df = pd.read_csv('data/data.csv',sep=\";\")\n",
    "\n",
    "le = LabelEncoder()\n",
    "y = le.fit_transform(df['Target'])\n",
    "class_names = list(le.classes_)\n",
    "X = df.drop(columns=['Target'])\n"
   ],
   "id": "1a2aded3bcfafbc",
   "outputs": [],
   "execution_count": 3
  },
  {
   "metadata": {},
   "cell_type": "markdown",
   "source": [
    "### Feature Engineering\n",
    "Feature engineering is especially important in this dataset as there are many features which in themselves doesn't mean much, but when combined provides more value."
   ],
   "id": "fb47d3780fdc0033"
  },
  {
   "metadata": {
    "ExecuteTime": {
     "end_time": "2025-10-21T22:11:58.415266Z",
     "start_time": "2025-10-21T22:11:58.411795Z"
    }
   },
   "cell_type": "code",
   "source": [
    "class FeatureEngineer(BaseEstimator, TransformerMixin):\n",
    "    def fit(self, X, y=None):\n",
    "        return self\n",
    "\n",
    "    def transform(self, X):\n",
    "        X = X.copy()\n",
    "        # ratios\n",
    "        X[\"approval_ratio_1st\"] = X[\"Curricular units 1st sem (approved)\"] / X[\"Curricular units 1st sem (enrolled)\"].replace(0, np.nan)\n",
    "        X[\"approval_ratio_2nd\"] = X[\"Curricular units 2nd sem (approved)\"] / X[\"Curricular units 2nd sem (enrolled)\"].replace(0, np.nan)\n",
    "        # avg grade across semesters (ignore zeros)\n",
    "        X[\"avg_grade\"] = X[[\"Curricular units 1st sem (grade)\", \"Curricular units 2nd sem (grade)\"]].replace(0, np.nan).mean(axis=1)\n",
    "        # totals & overall ratio\n",
    "        X[\"total_approved\"] = X[\"Curricular units 1st sem (approved)\"] + X[\"Curricular units 2nd sem (approved)\"]\n",
    "        X[\"total_enrolled\"] = X[\"Curricular units 1st sem (enrolled)\"] + X[\"Curricular units 2nd sem (enrolled)\"]\n",
    "        X[\"total_approval_ratio\"] = X[\"total_approved\"] / X[\"total_enrolled\"].replace(0, np.nan)\n",
    "        return X.fillna(0.0)\n",
    "\n",
    "X = X.fillna(0)"
   ],
   "id": "723fc26017957a0a",
   "outputs": [],
   "execution_count": 4
  },
  {
   "metadata": {},
   "cell_type": "markdown",
   "source": [
    "### Preprocessing\n",
    "The dataset has already been cleaned by the dataset authors, so no preprocessing in the form of checking missing values etc. is needed.\n",
    "\n",
    "Though preprocessing in the form of scaling and encoding categorical values is not needed when it comes to gradient boosting models, and especially not in this dataset when it's already been done by the authors. It could be informative to test whether doing this preprocessing could help give better results."
   ],
   "id": "73cd8fa24dffc659"
  },
  {
   "metadata": {
    "ExecuteTime": {
     "end_time": "2025-10-17T17:29:02.678974Z",
     "start_time": "2025-10-17T17:29:02.670242Z"
    }
   },
   "cell_type": "code",
   "source": [
    "categorical_cols = [\n",
    "    \"Application mode\", \"Application order\", \"Course\",\n",
    "    \"Previous qualification\", \"Nationality\", \"Mother's qualification\",\n",
    "    \"Father's qualification\", \"Mother's occupation\", \"Father's occupation\",\n",
    "    \"Displaced\", \"Debtor\", \"Tuition fees up to date\", \"Scholarship holder\",\n",
    "    \"Gender\", \"International\", \"Marital status\", \"Daytime/evening attendance\\t\",\n",
    "    \"Educational special needs\"\n",
    "]\n",
    "categorical_cols = [c for c in categorical_cols if c in X.columns]\n",
    "numeric_cols = [c for c in X.columns if c not in categorical_cols]\n",
    "\n",
    "preprocess = ColumnTransformer(\n",
    "    transformers=[\n",
    "        (\"num\", \"passthrough\", numeric_cols),\n",
    "        (\"cat\", OneHotEncoder(handle_unknown=\"ignore\"), categorical_cols),\n",
    "    ],\n",
    "    remainder=\"drop\",\n",
    "    sparse_threshold=0.3,\n",
    ")"
   ],
   "id": "f62f2bb8c7d54a43",
   "outputs": [],
   "execution_count": 5
  },
  {
   "metadata": {},
   "cell_type": "markdown",
   "source": [
    "### Training a Model\n",
    "We will be using different gradient boosting models like XGBoost, LightGBM and CatBoost for this. In addition, some of the pipelines beneath uses SMOTE, and some don't, this is simply because some did better (in the form of accuracy) with, and some without."
   ],
   "id": "94fe6b4a4f13e71d"
  },
  {
   "metadata": {
    "ExecuteTime": {
     "end_time": "2025-10-21T22:12:02.151479Z",
     "start_time": "2025-10-21T22:12:02.144720Z"
    }
   },
   "cell_type": "code",
   "source": "X_train, X_test, y_train, y_test = train_test_split(X, y, stratify=y, test_size=0.2, random_state=42)",
   "id": "55515e2ce5a3768d",
   "outputs": [],
   "execution_count": 5
  },
  {
   "metadata": {
    "ExecuteTime": {
     "end_time": "2025-10-21T22:12:04.042018Z",
     "start_time": "2025-10-21T22:12:02.882811Z"
    }
   },
   "cell_type": "code",
   "source": [
    "classes = np.unique(y_train)\n",
    "class_counts = np.bincount(y_train)\n",
    "class_weights = (class_counts.sum() / (len(classes) * class_counts))\n",
    "sample_weight = class_weights[y_train]\n",
    "\n",
    "xgb = XGBClassifier(\n",
    "    n_estimators=400,\n",
    "    learning_rate=0.08,\n",
    "    max_depth=6,\n",
    "    subsample=0.9,\n",
    "    colsample_bytree=0.9,\n",
    "    objective=\"multi:softprob\",\n",
    "    num_class=len(classes),\n",
    "    eval_metric=\"mlogloss\",\n",
    "    random_state=42,\n",
    "    n_jobs=-1,\n",
    ")\n",
    "\n",
    "pipe_xgb = ImbPipeline([\n",
    "    (\"fe\", FeatureEngineer()),\n",
    "    # (\"pre\", preprocess),\n",
    "    (\"clf\", xgb),\n",
    "])\n",
    "\n",
    "pipe_xgb.fit(X_train, y_train)\n",
    "y_pred = pipe_xgb.predict(X_test)\n",
    "\n",
    "print(\"=== XGBoost ===\")\n",
    "print(\"Accuracy:\", f\"{accuracy_score(y_test, y_pred):.4f}\")\n",
    "print(classification_report(y_test, y_pred, target_names=class_names))\n",
    "print(\"Confusion matrix:\\n\", confusion_matrix(y_test, y_pred))"
   ],
   "id": "75cad7bcf795c742",
   "outputs": [
    {
     "name": "stdout",
     "output_type": "stream",
     "text": [
      "=== XGBoost ===\n",
      "Accuracy: 0.7808\n",
      "              precision    recall  f1-score   support\n",
      "\n",
      "     Dropout       0.81      0.76      0.79       284\n",
      "    Enrolled       0.55      0.48      0.52       159\n",
      "    Graduate       0.83      0.90      0.86       442\n",
      "\n",
      "    accuracy                           0.78       885\n",
      "   macro avg       0.73      0.72      0.72       885\n",
      "weighted avg       0.77      0.78      0.78       885\n",
      "\n",
      "Confusion matrix:\n",
      " [[217  31  36]\n",
      " [ 36  77  46]\n",
      " [ 14  31 397]]\n"
     ]
    }
   ],
   "execution_count": 6
  },
  {
   "metadata": {
    "ExecuteTime": {
     "end_time": "2025-10-21T22:12:59.854281Z",
     "start_time": "2025-10-21T22:12:58.529756Z"
    }
   },
   "cell_type": "code",
   "source": [
    "pipe_xgb = ImbPipeline(steps=[\n",
    "    (\"fe\", FeatureEngineer()),\n",
    "    # (\"pre\", preprocess),\n",
    "    (\"smote\", SMOTE(random_state=42)),\n",
    "    (\"clf\", xgb),\n",
    "])\n",
    "\n",
    "pipe_xgb.fit(X_train, y_train)\n",
    "y_pred_sm = pipe_xgb.predict(X_test)\n",
    "\n",
    "print(\"\\n=== XGBoost + SMOTE ===\")\n",
    "print(\"Accuracy:\", f\"{accuracy_score(y_test, y_pred_sm):.4f}\")\n",
    "print(classification_report(y_test, y_pred_sm, target_names=class_names))\n",
    "print(\"Confusion matrix:\\n\", confusion_matrix(y_test, y_pred_sm))"
   ],
   "id": "26217fc749cd06e",
   "outputs": [
    {
     "name": "stdout",
     "output_type": "stream",
     "text": [
      "\n",
      "=== XGBoost + SMOTE ===\n",
      "Accuracy: 0.7672\n",
      "              precision    recall  f1-score   support\n",
      "\n",
      "     Dropout       0.80      0.74      0.77       284\n",
      "    Enrolled       0.51      0.50      0.50       159\n",
      "    Graduate       0.83      0.88      0.86       442\n",
      "\n",
      "    accuracy                           0.77       885\n",
      "   macro avg       0.71      0.71      0.71       885\n",
      "weighted avg       0.76      0.77      0.77       885\n",
      "\n",
      "Confusion matrix:\n",
      " [[210  39  35]\n",
      " [ 37  79  43]\n",
      " [ 15  37 390]]\n"
     ]
    }
   ],
   "execution_count": 11
  },
  {
   "cell_type": "code",
   "metadata": {
    "ExecuteTime": {
     "end_time": "2025-10-21T22:12:12.296624Z",
     "start_time": "2025-10-21T22:12:10.608386Z"
    }
   },
   "source": [
    "catboost_clf = CatBoostClassifier(\n",
    "    iterations=500,\n",
    "    learning_rate=0.05,\n",
    "    depth=6,\n",
    "    loss_function=\"MultiClass\",\n",
    "    random_state=42,\n",
    "    verbose=False,\n",
    ")\n",
    "\n",
    "pipe_catboost_smote = ImbPipeline([\n",
    "    (\"fe\", FeatureEngineer()),\n",
    "    (\"clf\", catboost_clf),\n",
    "])\n",
    "\n",
    "pipe_catboost_smote.fit(X_train, y_train)\n",
    "y_pred_cat = pipe_catboost_smote.predict(X_test)\n",
    "\n",
    "print(\"\\n=== CatBoost ===\")\n",
    "print(\"Accuracy:\", f\"{accuracy_score(y_test, y_pred_cat):.4f}\")\n",
    "print(classification_report(y_test, y_pred_cat, target_names=class_names))\n",
    "print(\"Confusion matrix:\\n\", confusion_matrix(y_test, y_pred_cat))"
   ],
   "id": "84c71e8d5bf6a4e8",
   "outputs": [
    {
     "name": "stdout",
     "output_type": "stream",
     "text": [
      "\n",
      "=== CatBoost ===\n",
      "Accuracy: 0.7819\n",
      "              precision    recall  f1-score   support\n",
      "\n",
      "     Dropout       0.80      0.77      0.79       284\n",
      "    Enrolled       0.57      0.43      0.49       159\n",
      "    Graduate       0.82      0.92      0.87       442\n",
      "\n",
      "    accuracy                           0.78       885\n",
      "   macro avg       0.73      0.71      0.72       885\n",
      "weighted avg       0.77      0.78      0.77       885\n",
      "\n",
      "Confusion matrix:\n",
      " [[218  26  40]\n",
      " [ 41  69  49]\n",
      " [ 12  25 405]]\n"
     ]
    }
   ],
   "execution_count": 8
  },
  {
   "metadata": {
    "ExecuteTime": {
     "end_time": "2025-10-21T22:12:15.373257Z",
     "start_time": "2025-10-21T22:12:13.796725Z"
    }
   },
   "cell_type": "code",
   "source": [
    "lgbm_clf = LGBMClassifier(\n",
    "    n_estimators=500,\n",
    "    learning_rate=0.05,\n",
    "    num_leaves=63,\n",
    "    objective=\"multiclass\",\n",
    "    random_state=42,\n",
    "    verbose=-1,\n",
    ")\n",
    "\n",
    "pipe_lgbm = ImbPipeline([\n",
    "    (\"fe\", FeatureEngineer()),\n",
    "    (\"clf\", lgbm_clf),\n",
    "])\n",
    "\n",
    "pipe_lgbm.fit(X_train, y_train)\n",
    "y_pred_lgbm = pipe_lgbm.predict(X_test)\n",
    "\n",
    "print(\"\\n=== LightGBM ===\")\n",
    "print(\"Accuracy:\", f\"{accuracy_score(y_test, y_pred_lgbm):.4f}\")\n",
    "print(classification_report(y_test, y_pred_lgbm, target_names=class_names))\n",
    "print(\"Confusion matrix:\\n\", confusion_matrix(y_test, y_pred_lgbm))"
   ],
   "id": "3b2631f3bcc0baec",
   "outputs": [
    {
     "name": "stdout",
     "output_type": "stream",
     "text": [
      "\n",
      "=== LightGBM ===\n",
      "Accuracy: 0.7763\n",
      "              precision    recall  f1-score   support\n",
      "\n",
      "     Dropout       0.82      0.76      0.79       284\n",
      "    Enrolled       0.54      0.47      0.51       159\n",
      "    Graduate       0.82      0.89      0.85       442\n",
      "\n",
      "    accuracy                           0.78       885\n",
      "   macro avg       0.73      0.71      0.72       885\n",
      "weighted avg       0.77      0.78      0.77       885\n",
      "\n",
      "Confusion matrix:\n",
      " [[217  30  37]\n",
      " [ 33  75  51]\n",
      " [ 14  33 395]]\n"
     ]
    }
   ],
   "execution_count": 9
  },
  {
   "metadata": {
    "ExecuteTime": {
     "end_time": "2025-10-21T22:18:52.581140Z",
     "start_time": "2025-10-21T22:18:52.405949Z"
    }
   },
   "cell_type": "code",
   "source": [
    "from sklearn.metrics import roc_auc_score, roc_curve\n",
    "\n",
    "# --- Probabilities for each class (CatBoost, multiclass) ---\n",
    "proba_cat = pipe_catboost_smote.predict_proba(X_test)\n",
    "\n",
    "# --- Multiclass ROC-AUC (OVR) ---\n",
    "roc_auc_cat = roc_auc_score(y_test, proba_cat, multi_class=\"ovr\")\n",
    "print(f\"Multiclass ROC-AUC (OVR): {roc_auc_cat:.4f}\")\n",
    "\n",
    "# --- ROC curve for the 'Dropout' class ---\n",
    "dropped_label = \"Dropout\"\n",
    "dropped_idx = class_names.index(dropped_label)   # class_names from your LabelEncoder\n",
    "y_true_dropped = (y_test == dropped_idx).astype(int)\n",
    "y_score_dropped = proba_cat[:, dropped_idx]\n",
    "\n",
    "fpr_cat, tpr_cat, _ = roc_curve(y_true_dropped, y_score_dropped)\n",
    "plt.figure(figsize=(6, 5))\n",
    "plt.plot(fpr_cat, tpr_cat, label=f\"CatBoost – '{dropped_label}' (AUC OVR = {roc_auc_cat:.3f})\")\n",
    "plt.plot([0, 1], [0, 1], \"k--\")\n",
    "plt.xlabel(\"False-Positive Rate\")\n",
    "plt.ylabel(\"True-Positive Rate\")\n",
    "plt.title(\"ROC Curve – 'Dropped Out' vs Others\")\n",
    "plt.legend()\n",
    "plt.grid(True)\n",
    "plt.show()\n",
    "\n",
    "# --- Top-10 feature importances (deterministic feature names) ---\n",
    "clf = pipe_catboost_smote.named_steps[\"clf\"]\n",
    "importances = clf.get_feature_importance()\n",
    "\n",
    "# Derive feature names from the FE step applied to training data\n",
    "fe_step = pipe_catboost_smote.named_steps[\"fe\"]\n",
    "fe_X_train = fe_step.transform(X_train)          # X_train is a DataFrame in your setup\n",
    "feature_names = list(fe_X_train.columns)         # matches importances length\n",
    "\n",
    "importance_df = (\n",
    "    pd.DataFrame({\"Feature\": feature_names, \"Importance\": importances})\n",
    "    .sort_values(\"Importance\", ascending=False)\n",
    "    .head(10)\n",
    ")\n",
    "\n",
    "plt.figure(figsize=(7, 4))\n",
    "plt.barh(importance_df[\"Feature\"], importance_df[\"Importance\"])\n",
    "plt.gca().invert_yaxis()\n",
    "plt.title(\"Top 10 Feature Importances (CatBoost)\")\n",
    "plt.xlabel(\"Importance\")\n",
    "plt.show()"
   ],
   "id": "76a93644e53b83b4",
   "outputs": [
    {
     "name": "stdout",
     "output_type": "stream",
     "text": [
      "Multiclass ROC-AUC (OVR): 0.8961\n"
     ]
    },
    {
     "data": {
      "text/plain": [
       "<Figure size 600x500 with 1 Axes>"
      ],
      "image/png": "[encoded data removed]"
     },
     "metadata": {},
     "output_type": "display_data",
     "jetTransient": {
      "display_id": null
     }
    },
    {
     "data": {
      "text/plain": [
       "<Figure size 700x400 with 1 Axes>"
      ],
      "image/png": "[encoded data removed]"
     },
     "metadata": {},
     "output_type": "display_data",
     "jetTransient": {
      "display_id": null
     }
    }
   ],
   "execution_count": 17
  }
 ],
 "metadata": {
  "kernelspec": {
   "display_name": "Python 3",
   "language": "python",
   "name": "python3"
  },
  "language_info": {
   "codemirror_mode": {
    "name": "ipython",
    "version": 2
   },
   "file_extension": ".py",
   "mimetype": "text/x-python",
   "name": "python",
   "nbconvert_exporter": "python",
   "pygments_lexer": "ipython2",
   "version": "2.7.6"
  }
 },
 "nbformat": 4,
 "nbformat_minor": 5
}
